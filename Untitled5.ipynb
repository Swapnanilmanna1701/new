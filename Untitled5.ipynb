{
  "nbformat": 4,
  "nbformat_minor": 0,
  "metadata": {
    "colab": {
      "provenance": [],
      "authorship_tag": "ABX9TyMelmpQyugnXLIzJFEt8AM0",
      "include_colab_link": true
    },
    "kernelspec": {
      "name": "python3",
      "display_name": "Python 3"
    },
    "language_info": {
      "name": "python"
    }
  },
  "cells": [
    {
      "cell_type": "markdown",
      "metadata": {
        "id": "view-in-github",
        "colab_type": "text"
      },
      "source": [
        "<a href=\"https://colab.research.google.com/github/Swapnanilmanna1701/new/blob/main/Untitled5.ipynb\" target=\"_parent\"><img src=\"https://colab.research.google.com/assets/colab-badge.svg\" alt=\"Open In Colab\"/></a>"
      ]
    },
    {
      "cell_type": "code",
      "execution_count": null,
      "metadata": {
        "id": "dtxLdE5NI1ox"
      },
      "outputs": [],
      "source": [
        "!pip install opencv-python imgbeddings psycopg2-binary"
      ]
    },
    {
      "cell_type": "code",
      "source": [
        "import cv2\n",
        "alg = \"/content/haarcascade_frontalface_default.xml\"\n",
        "haar_cascade = cv2.CascadeClassifier(alg)\n",
        "file_name= \"/content/ei9dlau0hu0b1.png\"\n",
        "img = cv2.imread(file_name, 0)\n",
        "edit_img = cv2.cvtColor(img, cv2.COLOR_RGB2BGR)\n",
        "faces = haar_cascade.detectMultiScale(\n",
        "    edit_img,\n",
        "    scaleFactor=1.05,\n",
        "    minNeighbors=5,\n",
        "    minSize=(100, 100),\n",
        ")\n",
        "i = 0\n",
        "for x, y, w, h in faces:\n",
        "    crop_img = img[y : y+h, x : x+w]\n",
        "    target_file = 'stored_faces/' + str(i) + '.jpeg'\n",
        "\n",
        "cv2.imwrite(\n",
        "    target_file,\n",
        "    crop_img,\n",
        ")\n",
        "i = i + 1;\n",
        "\n"
      ],
      "metadata": {
        "id": "CF6VFLSHJKxd"
      },
      "execution_count": null,
      "outputs": []
    }
  ]
}