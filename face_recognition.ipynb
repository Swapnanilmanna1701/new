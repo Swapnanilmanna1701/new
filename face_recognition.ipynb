{
  "nbformat": 4,
  "nbformat_minor": 0,
  "metadata": {
    "colab": {
      "provenance": [],
      "authorship_tag": "ABX9TyOFC9zV1GRA1Z8mYY8EF1Iu",
      "include_colab_link": true
    },
    "kernelspec": {
      "name": "python3",
      "display_name": "Python 3"
    },
    "language_info": {
      "name": "python"
    }
  },
  "cells": [
    {
      "cell_type": "markdown",
      "metadata": {
        "id": "view-in-github",
        "colab_type": "text"
      },
      "source": [
        "<a href=\"https://colab.research.google.com/github/Swapnanilmanna1701/new/blob/main/face_recognition.ipynb\" target=\"_parent\"><img src=\"https://colab.research.google.com/assets/colab-badge.svg\" alt=\"Open In Colab\"/></a>"
      ]
    },
    {
      "cell_type": "code",
      "execution_count": null,
      "metadata": {
        "id": "MDzigYzSeGic"
      },
      "outputs": [],
      "source": [
        "!pip install opencv-python imgbeddings psycopg2-binary\n"
      ]
    },
    {
      "cell_type": "code",
      "source": [
        "import cv2\n",
        "alg = \"/content/haarcascade_frontalface_default.xml\"\n",
        "haar_cascade = cv2.CascadeClassifier(alg)\n",
        "file = \"/content/maxresdefault.jpg\"\n",
        "img = cv2.imread(file, 0)\n",
        "edit = cv2.cvtColor(img, cv2.COLOR_RGB2BGR)\n",
        "faces = haar_cascade.detectMultiScale(\n",
        "    edit,\n",
        "    scaleFactor = 1.05,\n",
        "    minNeighbors=5,\n",
        "    minSize=(100,100)\n",
        ")\n",
        "i = 0\n",
        "for x, y, w, h in faces:\n",
        "    crop = img[y:y+h,x:x+w]\n",
        "    target = \"stored_face/\" + str(i) + 'jpg' + '.png'\n",
        "    cv2.imwrite(\n",
        "        target,\n",
        "        crop\n",
        "    )\n",
        "    i = i+1;\n"
      ],
      "metadata": {
        "id": "AT_j2d6lfCGC"
      },
      "execution_count": 7,
      "outputs": []
    }
  ]
}